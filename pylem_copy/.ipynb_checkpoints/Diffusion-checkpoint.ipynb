{
 "cells": [
  {
   "cell_type": "code",
   "execution_count": 1,
   "id": "73b81cac",
   "metadata": {},
   "outputs": [],
   "source": [
    "import numpy as np\n",
    "from pylem import calc_K_U_D\n",
    "\n",
    "def build_diffusion_model_dzdt(dx, l, L, Rf, time_to_steady_state, Pe, ka, h, m):\n",
    "    \n",
    "    \n",
    "    K, U, D = calc_K_U_D(l, L, Rf, time_to_steady_state, Pe, ka, h, m)\n",
    "    \n",
    "    def dzdt_d(t, y):\n",
    "\n",
    "        Q = -D*np.diff(y)/dx\n",
    "        Q = np.hstack((Q[0], Q, Q[-1]))\n",
    "        dzdt = U-np.diff(Q)/dx\n",
    "        dzdt[0] = 0.0\n",
    "        dzdt[-1] = 0.0\n",
    "        \n",
    "        return dzdt\n",
    "\n",
    "    return (K, U, D), dzdt_d\n"
   ]
  },
  {
   "cell_type": "code",
   "execution_count": 2,
   "id": "20ff0a09",
   "metadata": {},
   "outputs": [],
   "source": [
    "def ss(y, U, D, dx):\n",
    "    Q = -D*np.diff(y)/dx\n",
    "    return (Q[-1]-Q[0]) / (U*dx*len(Q))"
   ]
  },
  {
   "cell_type": "code",
   "execution_count": 3,
   "id": "22bf66a4",
   "metadata": {},
   "outputs": [],
   "source": [
    "def make_event(U, D, dx):\n",
    "    def event(t, y):\n",
    "        return 0.95 - ss(y, U, D, dx)\n",
    "    return event\n",
    "    "
   ]
  },
  {
   "cell_type": "code",
   "execution_count": 4,
   "id": "1aa7b6d0",
   "metadata": {},
   "outputs": [],
   "source": [
    "from scipy.integrate import solve_ivp\n",
    "\n",
    "slope = 5E-3\n",
    "\n",
    "m = 0.5\n",
    "ka = 9.17\n",
    "h = 1.47\n",
    "\n",
    "nx = 100\n",
    "\n",
    "l = 25.0\n",
    "\n",
    "dx = 2*l / nx\n",
    "\n",
    "L = 10000.0\n",
    "Rf = 1000.0\n",
    "time_to_steady_state = 2.0E6\n",
    "Pe = 3.0\n",
    "\n",
    "\n",
    "\n",
    "    \n",
    "\n"
   ]
  },
  {
   "cell_type": "code",
   "execution_count": 9,
   "id": "6d082fb9",
   "metadata": {},
   "outputs": [],
   "source": [
    "import matplotlib.pylab as plt\n",
    "\n",
    "tss = []\n",
    "lv = []\n",
    "for l in np.arange(5,50,2.5):\n",
    "    dx = 2*l / nx\n",
    "    (K, U, D), f_dzdt = build_diffusion_model_dzdt(dx, l, L, Rf, time_to_steady_state, Pe, ka, h, m)\n",
    "    z0 = np.zeros((nx, ))\n",
    "    results = solve_ivp(f_dzdt, y0=z0, t_span =(0.0, time_to_steady_state), method='RK45', events = make_event(U, D, dx))\n",
    "    t = []\n",
    "    apss = []\n",
    "    for i in range(results.y.shape[1]):\n",
    "        t += [results.t[i]]\n",
    "        apss += [ss(results.y[:,i], U, D, dx)]\n",
    "    \n",
    "    t = np.array(t)\n",
    "    apss = np.array(apss)\n",
    "    i = np.where(apss >= 0.95)\n",
    "    tss += [t[i][0]]\n",
    "    lv += [l]\n",
    "    "
   ]
  },
  {
   "cell_type": "code",
   "execution_count": 10,
   "id": "d4c07a19",
   "metadata": {},
   "outputs": [
    {
     "data": {
      "text/plain": [
       "[<matplotlib.lines.Line2D at 0x7ffabf0a4550>]"
      ]
     },
     "execution_count": 10,
     "metadata": {},
     "output_type": "execute_result"
    },
    {
     "data": {
      "image/png": "[encoded data removed]",
      "text/plain": [
       "<Figure size 432x288 with 1 Axes>"
      ]
     },
     "metadata": {
      "needs_background": "light"
     },
     "output_type": "display_data"
    }
   ],
   "source": [
    "plt.plot(lv, tss,'k-')"
   ]
  },
  {
   "cell_type": "code",
   "execution_count": 7,
   "id": "03f9e999",
   "metadata": {},
   "outputs": [
    {
     "data": {
      "text/plain": [
       "array([0.95008939, 0.95022395, 0.95015357, ..., 0.98934353, 0.98939792,\n",
       "       0.98965417])"
      ]
     },
     "execution_count": 7,
     "metadata": {},
     "output_type": "execute_result"
    }
   ],
   "source": [
    "i = np.where(apss >= 0.95)\n",
    "apss[i]"
   ]
  },
  {
   "cell_type": "code",
   "execution_count": null,
   "id": "e2cc6a46",
   "metadata": {},
   "outputs": [],
   "source": []
  }
 ],
 "metadata": {
  "kernelspec": {
   "display_name": "Python 3",
   "language": "python",
   "name": "python3"
  },
  "language_info": {
   "codemirror_mode": {
    "name": "ipython",
    "version": 3
   },
   "file_extension": ".py",
   "mimetype": "text/x-python",
   "name": "python",
   "nbconvert_exporter": "python",
   "pygments_lexer": "ipython3",
   "version": "3.6.13"
  }
 },
 "nbformat": 4,
 "nbformat_minor": 5
}
